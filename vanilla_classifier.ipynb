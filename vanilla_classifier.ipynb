{
 "cells": [
  {
   "cell_type": "markdown",
   "metadata": {},
   "source": [
    "# Training a Vanilla Classifier with the MNIST dataset\n",
    "\n",
    "In this notebook, I will be training both a CNN and an MLP to classify the MNIST problem. The main objective of both implementations is to study how to implement LRP algorithms for further understanding within our laboratory. \n",
    "\n",
    "This notebook was developed by Cesar Augusto Sanchez-Villalobos. @cesarasa in TTU and @CesarAugusto14 in GitHub. "
   ]
  },
  {
   "cell_type": "code",
   "execution_count": 1,
   "metadata": {},
   "outputs": [
    {
     "name": "stdout",
     "output_type": "stream",
     "text": [
      "mps\n"
     ]
    }
   ],
   "source": [
    "import os\n",
    "import torch\n",
    "import torch.nn as nn\n",
    "import matplotlib.pyplot as plt\n",
    "import numpy as np\n",
    "import pandas as pd\n",
    "import time\n",
    "\n",
    "from sklearn.manifold import TSNE\n",
    "from torchvision import datasets\n",
    "from torchvision import transforms\n",
    "from torchsummary import summary\n",
    "from torch.utils.data import DataLoader, random_split\n",
    "\n",
    "# Check the available devices (mps is to train on multiple GPUs, or in M1 Macs)\n",
    "device = torch.device('cuda' if torch.cuda.is_available() else 'mps')\n",
    "print(device)"
   ]
  },
  {
   "cell_type": "markdown",
   "metadata": {},
   "source": [
    "## Loading the data:\n",
    "\n",
    "The MNIST dataset is available in the `torchvision` library. We can load the dataset using the `torchvision.datasets.MNIST` class. The dataset contains images of size 28x28. We will normalize the images and convert them to tensors. Then, we will use the `DataLoader` class to create batches of data."
   ]
  },
  {
   "cell_type": "code",
   "execution_count": 33,
   "metadata": {},
   "outputs": [],
   "source": [
    "transform = transforms.Compose([\n",
    "    transforms.ToTensor(),\n",
    "])\n",
    "train_data = datasets.MNIST(root='data', train=True, download=True, transform=transform)\n",
    "test_data = datasets.MNIST(root='data', train=False, download=True, transform=transform)\n",
    "def one_hot_encode(labels, num_classes):\n",
    "    return torch.eye(num_classes)[labels]\n",
    "# One hot encode the labels\n",
    "# train_data.targets = one_hot_encode(train_data.targets, 10)\n",
    "# test_data.targets = one_hot_encode(test_data.targets, 10)\n",
    "\n",
    "\n",
    "# Split train into train and validation\n",
    "train_data, val_data = random_split(train_data, [50000, 10000])\n",
    "\n",
    "# Convert the labels into a one-hot encoded\n",
    "\n",
    "\n",
    "# Data Loaders\n",
    "batch_size = 32\n",
    "train_loader = DataLoader(train_data, batch_size=batch_size, shuffle=True)      # It is good practice to shuffle the training data as it helps the model to generalize better\n",
    "val_loader   = DataLoader(val_data,   batch_size=batch_size, shuffle=False)\n",
    "test_loader  = DataLoader(test_data,  batch_size=batch_size, shuffle=False)"
   ]
  },
  {
   "cell_type": "markdown",
   "metadata": {},
   "source": [
    "## Model construction:"
   ]
  },
  {
   "cell_type": "code",
   "execution_count": 46,
   "metadata": {},
   "outputs": [
    {
     "name": "stdout",
     "output_type": "stream",
     "text": [
      "----------------------------------------------------------------\n",
      "        Layer (type)               Output Shape         Param #\n",
      "================================================================\n",
      "            Linear-1                 [-1, 1, 5]           3,925\n",
      "            Linear-2                [-1, 1, 10]              60\n",
      "================================================================\n",
      "Total params: 3,985\n",
      "Trainable params: 3,985\n",
      "Non-trainable params: 0\n",
      "----------------------------------------------------------------\n",
      "Input size (MB): 0.00\n",
      "Forward/backward pass size (MB): 0.00\n",
      "Params size (MB): 0.02\n",
      "Estimated Total Size (MB): 0.02\n",
      "----------------------------------------------------------------\n",
      "None\n",
      "Epoch 1/10 | Train Loss: 0.92188 | Val Loss: 0.55088\n",
      "Epoch 2/10 | Train Loss: 0.48241 | Val Loss: 0.45516\n",
      "Epoch 3/10 | Train Loss: 0.41868 | Val Loss: 0.42286\n",
      "Epoch 4/10 | Train Loss: 0.39295 | Val Loss: 0.40840\n",
      "Epoch 5/10 | Train Loss: 0.37814 | Val Loss: 0.39273\n",
      "Epoch 6/10 | Train Loss: 0.36958 | Val Loss: 0.38754\n",
      "Epoch 7/10 | Train Loss: 0.36380 | Val Loss: 0.38723\n",
      "Epoch 8/10 | Train Loss: 0.35897 | Val Loss: 0.38510\n",
      "Epoch 9/10 | Train Loss: 0.35514 | Val Loss: 0.38170\n",
      "Epoch 10/10 | Train Loss: 0.35274 | Val Loss: 0.38165\n",
      "Finished Training\n",
      "Final Train Loss:  551.3394417576492\n"
     ]
    }
   ],
   "source": [
    "class MLP(nn.Module):\n",
    "    \"\"\"\n",
    "    The following class defines a tunable MLP model. It will have: \n",
    "    \n",
    "    n_layers : number of hidden layers in the network.\n",
    "    n_units  : number of units in each hidden layer.\n",
    "    n_inputs : number of input features.\n",
    "    n_outputs: number of output features.\n",
    "    \"\"\"\n",
    "    \n",
    "    def __init__(self, n_layers : int,\n",
    "                       n_units  : int,\n",
    "                       n_inputs : int,\n",
    "                       n_outputs: int):\n",
    "        super(MLP, self).__init__()\n",
    "        self.n_layers = n_layers\n",
    "        self.n_units = n_units\n",
    "        self.n_inputs = n_inputs\n",
    "        self.n_outputs = n_outputs\n",
    "        # Initialize the list of layers\n",
    "        self.layers = nn.ModuleList()\n",
    "        \n",
    "        assert n_layers > 0, \"Number of hidden layers must be greater than 0.\"\n",
    "        \n",
    "        # Add the first hidden layer\n",
    "        self.layers.append(nn.Linear(n_inputs, n_units))\n",
    "        \n",
    "        # Add the remaining hidden layers\n",
    "        for _ in range(n_layers - 1):\n",
    "            self.layers.append(nn.Linear(n_units, n_units))\n",
    "            \n",
    "        # Add the output layer\n",
    "        self.layers.append(nn.Linear(n_units, n_outputs))\n",
    "        \n",
    "    def forward(self, x):\n",
    "        \"\"\"\n",
    "        Forward pass of the network.\n",
    "        \"\"\"\n",
    "        for layer in self.layers[:-1]:\n",
    "            x = torch.relu(layer(x))\n",
    "        return self.layers[-1](x)\n",
    "    \n",
    "    def summary(self):\n",
    "        \"\"\"\n",
    "        Print the summary of the network.\n",
    "        \"\"\"\n",
    "        print(summary(self, (1, self.n_inputs)))\n",
    "        \n",
    "    def fit(self, train_loader : torch.utils.data.DataLoader,\n",
    "            val_loader   : torch.utils.data.DataLoader,\n",
    "            n_epochs     : int,\n",
    "            lr           : float,\n",
    "            criterion    : torch.nn.modules.loss,\n",
    "            device       : torch.device):\n",
    "        \"\"\"\n",
    "        Fit the model to the data.\n",
    "        \"\"\"\n",
    "        # Send the model to the device\n",
    "        self.to(device)\n",
    "        \n",
    "        # Initialize the optimizer\n",
    "        optimizer = torch.optim.Adam(self.parameters(), lr=lr)\n",
    "        \n",
    "        # Initialize the history dictionary\n",
    "        history = {'train_loss': [], 'val_loss': []}\n",
    "        \n",
    "        # Train the model\n",
    "        for epoch in range(n_epochs):\n",
    "            train_loss = 0.0\n",
    "            val_loss = 0.0\n",
    "            \n",
    "            # Train the model\n",
    "            self.train()\n",
    "            for x, y in train_loader:\n",
    "                x, y = x.to(device), one_hot_encode(y, 10).to(device)\n",
    "                optimizer.zero_grad()\n",
    "                y_hat = self(x.view(x.size(0), -1))\n",
    "                loss = criterion(y_hat, y)\n",
    "                loss.backward()\n",
    "                optimizer.step()\n",
    "                train_loss += loss.item()\n",
    "            history['train_loss'].append(train_loss / len(train_loader))\n",
    "            \n",
    "            # Validate the model\n",
    "            self.eval()\n",
    "            with torch.no_grad():\n",
    "                for x, y in val_loader:\n",
    "                    x, y = x.to(device), y.to(device)\n",
    "                    y_hat = self(x.view(x.size(0), -1))\n",
    "                    loss = criterion(y_hat, y)\n",
    "                    val_loss += loss.item()\n",
    "                history['val_loss'].append(val_loss / len(val_loader))\n",
    "                \n",
    "            # Print the progress\n",
    "            print(f'Epoch {epoch + 1}/{n_epochs} | Train Loss: {history[\"train_loss\"][-1]:.5f} | Val Loss: {history[\"val_loss\"][-1]:.5f}')\n",
    "            if epoch+1 == n_epochs:\n",
    "                print('Finished Training')\n",
    "                print('Final Train Loss: ', train_loss/len(train_loader))\n",
    "        return history\n",
    "        \n",
    "    def predict(self, test_loader : torch.utils.data.DataLoader,\n",
    "                device : torch.device):\n",
    "        \"\"\"\n",
    "        Predict the labels of the test data.\n",
    "        \"\"\"\n",
    "        self.eval()\n",
    "        predictions = []\n",
    "        with torch.no_grad():\n",
    "            for x, _ in test_loader:\n",
    "                x = x.to(device)\n",
    "                y_hat = self(x.view(x.size(0), -1))\n",
    "                predictions.extend(y_hat.argmax(dim=1).cpu().numpy())\n",
    "        return predictions\n",
    "        \n",
    "model = MLP(n_layers=1, n_units=5, n_inputs=28*28, n_outputs=10)\n",
    "\n",
    "# Print the model summary\n",
    "model.summary()\n",
    "\n",
    "# Define the hyperparameters\n",
    "n_epochs = 10\n",
    "lr = 1e-3\n",
    "criterion = nn.CrossEntropyLoss()\n",
    "\n",
    "# Fit the model\n",
    "history = model.fit(train_loader, val_loader, n_epochs, lr, criterion, device)\n"
   ]
  },
  {
   "cell_type": "code",
   "execution_count": 54,
   "metadata": {},
   "outputs": [
    {
     "data": {
      "image/png": "[encoded data removed]",
      "text/plain": [
       "<Figure size 720x360 with 1 Axes>"
      ]
     },
     "metadata": {
      "needs_background": "light"
     },
     "output_type": "display_data"
    }
   ],
   "source": [
    "# Plot \n",
    "plt.figure(figsize=(10, 5))\n",
    "plt.plot(np.arange(1, 11, 1), history['train_loss'], label='Train Loss')\n",
    "plt.plot(np.arange(1, 11, 1), history['val_loss']  , label='Val Loss')\n",
    "# The xticks go from 1 to 10\n",
    "plt.xticks(np.arange(1, 11, 1))\n",
    "plt.xlabel('Epochs')\n",
    "plt.ylabel('Loss')\n",
    "plt.legend()\n",
    "plt.title('Training and Validation loss over 10 epochs')\n",
    "plt.show()"
   ]
  }
 ],
 "metadata": {
  "kernelspec": {
   "display_name": "torch-gpu",
   "language": "python",
   "name": "python3"
  },
  "language_info": {
   "codemirror_mode": {
    "name": "ipython",
    "version": 3
   },
   "file_extension": ".py",
   "mimetype": "text/x-python",
   "name": "python",
   "nbconvert_exporter": "python",
   "pygments_lexer": "ipython3",
   "version": "3.8.13"
  }
 },
 "nbformat": 4,
 "nbformat_minor": 2
}
